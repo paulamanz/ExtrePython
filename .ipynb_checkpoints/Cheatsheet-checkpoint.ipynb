{
 "cells": [
  {
   "cell_type": "markdown",
   "metadata": {},
   "source": [
    "# ExtrePython 25/05/18\n",
    "Aquí va a estar la cheatsheet de todo lo que se hará durante la sesión."
   ]
  },
  {
   "cell_type": "code",
   "execution_count": 1,
   "metadata": {},
   "outputs": [
    {
     "name": "stdout",
     "output_type": "stream",
     "text": [
      "Hello world!\n"
     ]
    }
   ],
   "source": [
    "print(\"Hello world!\")"
   ]
  },
  {
   "cell_type": "markdown",
   "metadata": {},
   "source": [
    "## Importar las librerías\n",
    "Lo primero será importar las librerías que se van a utilizar"
   ]
  },
  {
   "cell_type": "code",
   "execution_count": 2,
   "metadata": {
    "collapsed": true
   },
   "outputs": [],
   "source": [
    "import pandas as pd\n",
    "import matplotlib as plt"
   ]
  },
  {
   "cell_type": "markdown",
   "metadata": {},
   "source": [
    "## Pandas\n",
    "Empezamos con la librería \"pandas\". Tal y como hemos hablado, pandas es una librería de estructura y análisis de datos. La principal estructura de datos que utiliza pandas es el Dataframe.\n",
    "### Crear un DataFrame\n",
    "Existen varias formas de crear un dataframe. Podemos crearlo desde un diccionario:"
   ]
  },
  {
   "cell_type": "code",
   "execution_count": 3,
   "metadata": {},
   "outputs": [
    {
     "name": "stdout",
     "output_type": "stream",
     "text": [
      "   a  b\n",
      "0  0  4\n",
      "1  1  5\n",
      "2  2  6\n",
      "3  3  1\n",
      "4  4  1\n"
     ]
    }
   ],
   "source": [
    "dic = {'a': [0,1,2,3,4], 'b': [4,5,6,1,1]}\n",
    "df = pd.DataFrame(data=dic)\n",
    "print(df)"
   ]
  },
  {
   "cell_type": "markdown",
   "metadata": {},
   "source": [
    "O un array:"
   ]
  },
  {
   "cell_type": "code",
   "execution_count": 4,
   "metadata": {},
   "outputs": [
    {
     "name": "stdout",
     "output_type": "stream",
     "text": [
      "    0\n",
      "0   0\n",
      "1   3\n",
      "2   4\n",
      "3  52\n",
      "4   4\n",
      "5  45\n",
      "6   7\n",
      "7   8\n"
     ]
    }
   ],
   "source": [
    "array = [0,3,4,52,4,45,7,8]\n",
    "df2 = pd.DataFrame(data=array)\n",
    "print (df2)"
   ]
  },
  {
   "cell_type": "markdown",
   "metadata": {},
   "source": [
    "También se puede crear desde un fichero ya existente que contenga la información que necesites procesar. Por ejemplo un csv, un JSON o incluso una tabla en SQL.\n",
    "### Herramientas I/O\n",
    "Existe un método de lectura y otro de escritura por cada formato. Se pueden trasformas desde una amplia gama de formatos, pero por resumir sólo vamos a utilizar aquí csv y json. Si tienes curiosidad puedes ver todos los métodos y formatos aquí: https://pandas.pydata.org/pandas-docs/stable/io.html"
   ]
  },
  {
   "cell_type": "code",
   "execution_count": 7,
   "metadata": {},
   "outputs": [
    {
     "name": "stdout",
     "output_type": "stream",
     "text": [
      "         Date                   City           State  AreaType School  \\\n",
      "0     3/27/90               Brooklyn        New York       NaN      C   \n",
      "1     5/20/90            Centerville       Tennessee  suburban     HS   \n",
      "2     8/26/90              Las Vegas          Nevada     urban     HS   \n",
      "3     9/11/90            San Antonio           Texas       NaN     HS   \n",
      "4      1/8/91             Richardson           Texas     urban     HS   \n",
      "5      2/6/91                  Donna           Texas       NaN     HS   \n",
      "6     4/23/91                Compton      California     urban     MS   \n",
      "7     4/23/91                Compton      California       NaN     MS   \n",
      "8     9/18/91                 Crosby           Texas     rural     HS   \n",
      "9     9/18/91                 Crosby           Texas       NaN     HS   \n",
      "10    10/8/91                  Bronx        New York     urban     HS   \n",
      "11    11/1/91              Iowa City            Iowa     urban      C   \n",
      "12    11/1/91              Iowa City            Iowa       NaN      C   \n",
      "13   11/14/91                Houston           Texas     urban     HS   \n",
      "14   11/25/91               Brooklyn        New York     urban     HS   \n",
      "15   11/25/91               Brooklyn        New York       NaN     HS   \n",
      "16   12/12/91                   Kent            Ohio       NaN      C   \n",
      "17    1/29/92                   Kent            Ohio       NaN      C   \n",
      "18    2/26/92               Brooklyn        New York     urban     HS   \n",
      "19    2/26/92               Brooklyn        New York       NaN     HS   \n",
      "20     5/1/92             Olivehurst      California  suburban     HS   \n",
      "21     5/1/92             Olivehurst      California       NaN     HS   \n",
      "22    5/14/92                   Napa      California     urban     MS   \n",
      "23    9/11/92                Lincoln           Texas     urban     HS   \n",
      "24   10/12/92                Lincoln        Nebraska     urban      C   \n",
      "25   10/12/92                 Tucson         Arizona     urban     HS   \n",
      "26   10/19/92              The Bronx        New York       NaN     HS   \n",
      "27    11/4/92                Detroit        Michigan       NaN     HS   \n",
      "28   11/10/92                Chicago        Illinois     urban     ES   \n",
      "29   11/13/92                Houston           Texas     urban     HS   \n",
      "..        ...                    ...             ...       ...    ...   \n",
      "626    6/8/16             Dorchester   Massachusetts       NaN     HS   \n",
      "627    9/6/16           Cedar Rapids              IA       NaN     HS   \n",
      "628    9/9/16                 Alpine           Texas       NaN     HS   \n",
      "629   9/28/16              Townville  South Carolina       NaN     ES   \n",
      "630  10/11/16                 Mobile         Alabama       NaN     HS   \n",
      "631  10/13/16               Columbus            Ohio       NaN     HS   \n",
      "632  10/18/16          San Francisco      California       NaN     HS   \n",
      "633  10/25/16                  Sandy            Utah       NaN     MS   \n",
      "634   12/1/16              Bountiful            Utah       NaN     MS   \n",
      "635   1/20/17           West Liberty            Ohio       NaN     HS   \n",
      "636   1/20/17                Seattle      Washington       NaN      C   \n",
      "637   3/21/17              King City      California       NaN     HS   \n",
      "638   4/10/17         San Bernardino      California       NaN     ES   \n",
      "639    5/4/17                 Irving           Texas       NaN      C   \n",
      "640   9/13/17               Rockford      Washington       NaN     HS   \n",
      "641   9/20/17                Mattoon        Illinois       NaN     HS   \n",
      "642  11/14/17  Rancho Tehama Reserve      California       NaN     ES   \n",
      "643   12/7/17                  Aztec      New Mexico       NaN     HS   \n",
      "644    1/9/18            Forest City            Iowa       NaN      -   \n",
      "645   1/20/18          Winston-Salem  North Carolina       NaN      C   \n",
      "646   1/22/18                  Italy           Texas       NaN     HS   \n",
      "647   1/22/18            New Orleans       Louisiana       NaN     HS   \n",
      "648   1/23/18        Marshall County        Kentucky       NaN     HS   \n",
      "649    2/1/18            Los Angeles      California       NaN     MS   \n",
      "650   2/14/18               Parkland         Florida       NaN     HS   \n",
      "651    3/2/18         Mount Pleasant        Michigan       NaN      C   \n",
      "652    3/7/18             Birmingham         Alabama       NaN     HS   \n",
      "653   3/14/18             Birmingham         Alabama       NaN      C   \n",
      "654   3/20/18            Great Mills        Maryland       NaN     HS   \n",
      "655   4/20/18                  Ocala         Florida       NaN     HS   \n",
      "\n",
      "     Fatalities  Wounded  Dupe Source  \\\n",
      "0             0      1.0   NaN   Wikp   \n",
      "1             1      NaN   NaN    Pah   \n",
      "2             1      NaN   NaN    Pah   \n",
      "3             0      3.0   NaN   Wikp   \n",
      "4             0      NaN   NaN    Pah   \n",
      "5             1      0.0   NaN   Wikp   \n",
      "6             1      NaN  True    Pah   \n",
      "7             1      0.0   NaN   Wikp   \n",
      "8             1      NaN  True    Pah   \n",
      "9             1      0.0   NaN   Wikp   \n",
      "10            1      NaN   NaN    Pah   \n",
      "11            5      NaN  True    Pah   \n",
      "12            6      1.0   NaN   Wikp   \n",
      "13            0      NaN   NaN    Pah   \n",
      "14            1      NaN  True    Pah   \n",
      "15            1      0.0   NaN   Wikp   \n",
      "16            1      0.0   NaN   Wikp   \n",
      "17            0      1.0   NaN   Wikp   \n",
      "18            2      NaN  True    Pah   \n",
      "19            2      0.0   NaN   Wikp   \n",
      "20            4      NaN  True    Pah   \n",
      "21            3     10.0   NaN   Wikp   \n",
      "22            0      NaN   NaN    Pah   \n",
      "23            0      NaN   NaN    Pah   \n",
      "24            0      NaN   NaN    Pah   \n",
      "25            1      NaN   NaN    Pah   \n",
      "26            0      3.0   NaN   Wikp   \n",
      "27            0     11.0   NaN   Wikp   \n",
      "28            0      NaN   NaN    Pah   \n",
      "29            1      NaN   NaN    Pah   \n",
      "..          ...      ...   ...    ...   \n",
      "626           1      3.0   NaN   Wikp   \n",
      "627           1      0.0   NaN   Wikp   \n",
      "628           1      2.0   NaN   Wikp   \n",
      "629           2      2.0   NaN   Wikp   \n",
      "630           0      1.0   NaN   Wikp   \n",
      "631           0      2.0   NaN   Wikp   \n",
      "632           0      4.0   NaN   Wikp   \n",
      "633           0      1.0   NaN   Wikp   \n",
      "634           0      0.0   NaN   Wikp   \n",
      "635           0      1.0   NaN   Wikp   \n",
      "636           0      1.0   NaN   Wikp   \n",
      "637           0      1.0   NaN   Wikp   \n",
      "638           3      1.0   NaN   Wikp   \n",
      "639           2      0.0   NaN   Wikp   \n",
      "640           1      3.0   NaN   Wikp   \n",
      "641           0      1.0   NaN   Wikp   \n",
      "642           6     18.0   NaN   Wikp   \n",
      "643           3      0.0   NaN   Wikp   \n",
      "644           0      0.0   NaN   Wikp   \n",
      "645           1      0.0   NaN   Wikp   \n",
      "646           0      1.0   NaN   Wikp   \n",
      "647           0      1.0   NaN   Wikp   \n",
      "648           2     18.0   NaN   Wikp   \n",
      "649           0      5.0   NaN   Wikp   \n",
      "650          17     14.0   NaN   Wikp   \n",
      "651           2      0.0   NaN   Wikp   \n",
      "652           1      2.0   NaN   Wikp   \n",
      "653           2      1.0   NaN   Wikp   \n",
      "654           2      1.0   NaN   Wikp   \n",
      "655           0      1.0   NaN   Wikp   \n",
      "\n",
      "                                                  Desc  \n",
      "0    A black youth was taunted with racial slurs by...  \n",
      "1                                                  NaN  \n",
      "2                                                  NaN  \n",
      "3    3 students were wounded when gunfire broke out...  \n",
      "4                                                  NaN  \n",
      "5    15-year-old Raul Calvo shot himself dead while...  \n",
      "6                                                  NaN  \n",
      "7    A teenager aimed and fired a handgun at a secu...  \n",
      "8                                                  NaN  \n",
      "9    17-year-old Arthur Jermel Jack, was killed by ...  \n",
      "10                                                 NaN  \n",
      "11                                                 NaN  \n",
      "12   University of Iowa shooting: 28-year-old forme...  \n",
      "13                                                 NaN  \n",
      "14                                                 NaN  \n",
      "15   Thomas Jefferson High School shooting: During ...  \n",
      "16   51-year-old custodian, John Frazier, was kille...  \n",
      "17   26-year-old graduate student, Sarah Smith, was...  \n",
      "18                                                 NaN  \n",
      "19   Thomas Jefferson High School second shooting: ...  \n",
      "20                                                 NaN  \n",
      "21   Lindhurst High School shooting: Former student...  \n",
      "22                                                 NaN  \n",
      "23                                                 NaN  \n",
      "24                                                 NaN  \n",
      "25                                                 NaN  \n",
      "26   Two 14-year-old girls and a 16-year-old boy we...  \n",
      "27   11 students were hit by gunfire during a four-...  \n",
      "28                                                 NaN  \n",
      "29                                                 NaN  \n",
      "..                                                 ...  \n",
      "626  One student was killed and three other individ...  \n",
      "627  A 15 year-old male student shot himself at Jef...  \n",
      "628  A 14-year-old female student shot a 16-year-ol...  \n",
      "629  Townville Elementary School shooting: Two stud...  \n",
      "630  A student was shot in the abdomen and wounded ...  \n",
      "631  Two students were shot and wounded on the fron...  \n",
      "632  Four students were shot outside June Jordan Hi...  \n",
      "633  Police say the two teens ages 14 and 16 were i...  \n",
      "634  At Mueller Park Junior High School, a 15-year-...  \n",
      "635  A 17-year-old student was charged with attempt...  \n",
      "636  A 34-year-old man was shot in Red Square at Un...  \n",
      "637  An 18-year-old King City High School student w...  \n",
      "638  North Park Elementary School shooting: Cedric ...  \n",
      "639  North Lake College: Adrian Victor Torres kille...  \n",
      "640  Freeman High School: Three students injured an...  \n",
      "641  Mattoon High School: A 14-year-old male studen...  \n",
      "642  Rancho Tehama Reserve shootings: Neighbor on a...  \n",
      "643  Aztec High School shooting: William Atchison, ...  \n",
      "644  A man shot a pellet gun at a school bus full o...  \n",
      "645  A student was fatally shot on the campus of Wa...  \n",
      "646  A 16-year-old male student fired at a 15-year-...  \n",
      "647  Shots were fired from a truck in the parking l...  \n",
      "648  Marshall County High School shooting: A 15-yea...  \n",
      "649  Two 15-year-old students, a boy and a girl, we...  \n",
      "650  Marjory Stoneman Douglas High School shooting:...  \n",
      "651  Central Michigan University shooting: Two peop...  \n",
      "652  Huffman High School.  Law enforcement original...  \n",
      "653  UAB: A disgruntled employee entered the UAB Hi...  \n",
      "654  Great Mills High School: School placed on lock...  \n",
      "655  Forest High School: School evacuated after sho...  \n",
      "\n",
      "[656 rows x 10 columns]\n"
     ]
    }
   ],
   "source": [
    "df = pd.read_csv('schoolshooting.csv')\n",
    "print(df)"
   ]
  },
  {
   "cell_type": "code",
   "execution_count": null,
   "metadata": {
    "collapsed": true
   },
   "outputs": [],
   "source": []
  }
 ],
 "metadata": {
  "kernelspec": {
   "display_name": "Python 3",
   "language": "python",
   "name": "python3"
  },
  "language_info": {
   "codemirror_mode": {
    "name": "ipython",
    "version": 3
   },
   "file_extension": ".py",
   "mimetype": "text/x-python",
   "name": "python",
   "nbconvert_exporter": "python",
   "pygments_lexer": "ipython3",
   "version": "3.6.3"
  }
 },
 "nbformat": 4,
 "nbformat_minor": 2
}
